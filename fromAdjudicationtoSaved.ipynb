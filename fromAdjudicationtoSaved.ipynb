{
 "cells": [
  {
   "cell_type": "code",
   "execution_count": 1,
   "metadata": {
    "collapsed": true
   },
   "outputs": [],
   "source": [
    "import glob, shutil, os"
   ]
  },
  {
   "cell_type": "markdown",
   "metadata": {},
   "source": [
    "Variables to define:"
   ]
  },
  {
   "cell_type": "code",
   "execution_count": 70,
   "metadata": {
    "collapsed": false
   },
   "outputs": [
    {
     "data": {
      "text/plain": [
       "True"
      ]
     },
     "execution_count": 70,
     "metadata": {},
     "output_type": "execute_result"
    }
   ],
   "source": [
    "#path to the adjudication folder. May have to change '~' on a Windows computer\n",
    "adjud_dir = os.path.join(os.path.expanduser('~'),'Box Sync','BleedingClassification_RShah','QCOR_Annotation')\n",
    "\n",
    "#check that adjud_folder works\n",
    "os.path.exists(adjud_dir)\n"
   ]
  },
  {
   "cell_type": "code",
   "execution_count": 73,
   "metadata": {
    "collapsed": true
   },
   "outputs": [],
   "source": [
    "def adjud2Saved(adjud_path,batch_name='/Batch*'):\n",
    "    \"\"\"Iterates through all batch folders in a directory.\n",
    "    Copies xml files from 'adjudication' to 'saved' folder.\n",
    "    These can then be exported to excel through eHOST.\n",
    "    Takes as argument the path to the adjudicator's folder and the naming schema for batches.\n",
    "    By default, naming schema is '/batch*'\"\"\"\n",
    "    \n",
    "    \n",
    "    if os.path.exists(adjud_path) == False:\n",
    "        return 'Path does not exist.'\n",
    "    \n",
    "    adjud_batches = adjud_path+batch_name\n",
    "\n",
    "    list_batches = glob.glob(adjud_batches)\n",
    "    batch_count = 0\n",
    "    affected_folders = []\n",
    "    \n",
    "    for folder in list_batches:\n",
    "        print(folder)\n",
    "        old_saved = os.path.join(folder,'saved')\n",
    "        adjud_folder = os.path.join(folder,'adjudication')\n",
    "        new_saved = old_saved\n",
    "        if os.path.exists(adjud_folder) == True:\n",
    "            batch_count += 1\n",
    "            affected_folders.append(os.path.basename(folder))\n",
    "            \n",
    "            shutil.rmtree(old_saved)\n",
    "            shutil.copytree(adjud_folder, new_saved)\n",
    "            \n",
    "        else:\n",
    "            print (\"There is no adjudication folder in %s\"%folder)\n",
    "    print(\"You copied files from adjud to save in %d folders\"%batch_count)   \n",
    "    return affected_folders"
   ]
  },
  {
   "cell_type": "code",
   "execution_count": 72,
   "metadata": {
    "collapsed": false
   },
   "outputs": [
    {
     "data": {
      "text/plain": [
       "['.DS_Store',\n",
       " 'annotationadmin.xml',\n",
       " 'batch_0',\n",
       " 'batch_1',\n",
       " 'batch_2',\n",
       " 'batch_3',\n",
       " 'batch_4',\n",
       " 'ehost-mk5.1',\n",
       " 'reports']"
      ]
     },
     "execution_count": 72,
     "metadata": {},
     "output_type": "execute_result"
    }
   ],
   "source": [
    "#adjud2Saved(adjud_dir)"
   ]
  },
  {
   "cell_type": "code",
   "execution_count": null,
   "metadata": {
    "collapsed": true
   },
   "outputs": [],
   "source": []
  }
 ],
 "metadata": {
  "anaconda-cloud": {},
  "kernelspec": {
   "display_name": "Python [default]",
   "language": "python",
   "name": "python3"
  },
  "language_info": {
   "codemirror_mode": {
    "name": "ipython",
    "version": 3
   },
   "file_extension": ".py",
   "mimetype": "text/x-python",
   "name": "python",
   "nbconvert_exporter": "python",
   "pygments_lexer": "ipython3",
   "version": "3.5.2"
  }
 },
 "nbformat": 4,
 "nbformat_minor": 1
}
