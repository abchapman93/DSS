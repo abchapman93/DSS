{
 "cells": [
  {
   "cell_type": "markdown",
   "metadata": {},
   "source": [
    "# Reading in all files in all of your batches"
   ]
  },
  {
   "cell_type": "code",
   "execution_count": 9,
   "metadata": {
    "collapsed": true
   },
   "outputs": [],
   "source": [
    "import os\n",
    "import glob\n",
    "from collections import defaultdict"
   ]
  },
  {
   "cell_type": "code",
   "execution_count": 10,
   "metadata": {
    "collapsed": true
   },
   "outputs": [],
   "source": [
    "import numpy as np\n",
    "import matplotlib.pyplot as plt\n",
    "%matplotlib inline "
   ]
  },
  {
   "cell_type": "code",
   "execution_count": 39,
   "metadata": {
    "collapsed": false
   },
   "outputs": [
    {
     "data": {
      "text/plain": [
       "<module 'notes_summary' from '/Users/alec/python_projects/DSS/notes_summary.py'>"
      ]
     },
     "execution_count": 39,
     "metadata": {},
     "output_type": "execute_result"
    }
   ],
   "source": [
    "import notes_summary\n",
    "import importlib\n",
    "importlib.reload(notes_summary)"
   ]
  },
  {
   "cell_type": "markdown",
   "metadata": {},
   "source": [
    "Set up path to your batches of notes"
   ]
  },
  {
   "cell_type": "code",
   "execution_count": 4,
   "metadata": {
    "collapsed": false
   },
   "outputs": [
    {
     "name": "stdout",
     "output_type": "stream",
     "text": [
      "True\n"
     ]
    }
   ],
   "source": [
    "#path to the directory containing your batches/notes\n",
    "DATADIR = os.path.join(os.path.expanduser('~'),'Box Sync', 'Bucher_Surgical_MIMICIII','Radiology_Annotation','Original Documents')\n",
    "if os.path.exists(DATADIR) == False:\n",
    "    print(\"Please check that your path name is correct\")\n",
    "else:\n",
    "    print('True')"
   ]
  },
  {
   "cell_type": "code",
   "execution_count": 14,
   "metadata": {
    "collapsed": false
   },
   "outputs": [],
   "source": [
    "naming_schema = '//Batch*' #the naming schema of your batch folders\n",
    "list_of_batches = glob.glob(DATADIR+naming_schema)"
   ]
  },
  {
   "cell_type": "markdown",
   "metadata": {},
   "source": [
    "First we'll look at the lengths of your notes. Start by creating a Python dictionary where the keys are the note names and the values the lengths of the notes."
   ]
  },
  {
   "cell_type": "code",
   "execution_count": 22,
   "metadata": {
    "collapsed": false
   },
   "outputs": [],
   "source": [
    "note_lengths = notes_summary.dict_of_lengths(list_of_batches,DATADIR)"
   ]
  },
  {
   "cell_type": "markdown",
   "metadata": {},
   "source": [
    "Get an overview of the documents in your batches. \n",
    "\n",
    "First we'll look at a histogram showing the lengths of your notes and how many notes have those lenghts:"
   ]
  },
  {
   "cell_type": "code",
   "execution_count": 29,
   "metadata": {
    "collapsed": false
   },
   "outputs": [
    {
     "data": {
      "image/png": "[encoded data removed]",
      "text/plain": [
       "<matplotlib.figure.Figure at 0x10fd67fd0>"
      ]
     },
     "metadata": {},
     "output_type": "display_data"
    }
   ],
   "source": [
    "#create a histogram with note_lengths\n",
    "plt.hist(list(note_lengths.values()))\n",
    "plt.title(\"Lengths of notes in '%s'\"%os.path.basename(DATADIR))\n",
    "plt.xlabel(\"Length of note\")\n",
    "plt.ylabel(\"Frequency\")\n",
    "plt.show()"
   ]
  },
  {
   "cell_type": "code",
   "execution_count": 26,
   "metadata": {
    "collapsed": false
   },
   "outputs": [
    {
     "name": "stdout",
     "output_type": "stream",
     "text": [
      "Number of batches: 63\n",
      "Number of notes: 1082\n",
      "Average length of notes: 4433\n",
      "Largest note: No_62980_181394_08-30-92.txt, 10657 characters\n",
      "Smallest note: No_28561_119097_08-07-70.txt, 761 characters\n"
     ]
    }
   ],
   "source": [
    "notes_summary.note_lengths_summary(note_lengths,DATADIR,naming_schema)"
   ]
  },
  {
   "cell_type": "markdown",
   "metadata": {},
   "source": [
    "Let's next find any outliers. By default, outlier_ident will identify any notes that have a length greater than or equal to two standard deviations away from the mean length. \n",
    "\n",
    "Once these are identified, you can review them manually and see if there are any problems with the files."
   ]
  },
  {
   "cell_type": "code",
   "execution_count": 40,
   "metadata": {
    "collapsed": false
   },
   "outputs": [
    {
     "name": "stdout",
     "output_type": "stream",
     "text": [
      "Low outliers:\n",
      "\n",
      "High outliers:\n"
     ]
    },
    {
     "data": {
      "text/plain": [
       "({'No_28561_119097_08-07-70.txt': 761,\n",
       "  'No_3250_171462_12-06-69.txt': 900,\n",
       "  'No_43086_143354_12-23-85.txt': 873,\n",
       "  'No_58774_154395_05-07-19.txt': 935,\n",
       "  'No_60805_143452_09-01-40.txt': 880,\n",
       "  'No_61517_138156_12-26-44.txt': 889,\n",
       "  'No_91031_135028_11-23-59.txt': 935,\n",
       "  'No_99691_140367_09-03-39.txt': 938,\n",
       "  'Yes_57739_159802_10-08-32.txt': 894,\n",
       "  'Yes_64277_161558_08-23-87.txt': 880,\n",
       "  'Yes_70485_162746_11-16-96.txt': 949},\n",
       " {'No_43812_131495_10-02-16.txt': 8560,\n",
       "  'No_49925_108652_07-11-52.txt': 7979,\n",
       "  'No_52034_150225_11-07-74.txt': 8351,\n",
       "  'No_55094_133570_03-09-80.txt': 9906,\n",
       "  'No_59344_164247_08-13-57.txt': 9878,\n",
       "  'No_62980_181394_08-30-92.txt': 10657,\n",
       "  'No_63187_132488_07-26-50.txt': 9443,\n",
       "  'No_65989_124029_11-03-78.txt': 10304,\n",
       "  'No_67578_151385_05-07-73.txt': 8722,\n",
       "  'No_69596_174074_07-07-33.txt': 8135,\n",
       "  'No_71501_177317_12-30-66.txt': 8510,\n",
       "  'No_79664_161109_04-05-96.txt': 9772,\n",
       "  'No_79699_171493_09-02-13.txt': 9835,\n",
       "  'No_82184_193116_10-06-46.txt': 8559,\n",
       "  'No_87188_178787_07-11-23.txt': 8827,\n",
       "  'No_90538_105088_03-30-46.txt': 10564,\n",
       "  'No_99096_190010_07-01-10.txt': 8374,\n",
       "  'Yes_19079_142677_04-19-81.txt': 8611,\n",
       "  'Yes_29035_108831_07-31-53.txt': 8394,\n",
       "  'Yes_41288_166978_02-12-49.txt': 9178,\n",
       "  'Yes_43812_131495_10-12-16.txt': 9827,\n",
       "  'Yes_52728_104025_01-24-01.txt': 8683,\n",
       "  'Yes_63187_132488_07-18-50.txt': 9225,\n",
       "  'Yes_71473_124934_08-26-89.txt': 8060,\n",
       "  'Yes_74496_138943_06-23-42.txt': 8776,\n",
       "  'Yes_74976_148937_02-28-66.txt': 8743,\n",
       "  'Yes_76265_158504_09-28-87.txt': 8881,\n",
       "  'Yes_76315_119437_05-13-59.txt': 7987,\n",
       "  'Yes_81543_173583_01-28-42.txt': 8082,\n",
       "  'Yes_82073_119420_07-20-60.txt': 8639,\n",
       "  'Yes_92464_122116_08-07-06.txt': 8977,\n",
       "  'Yes_92796_113747_10-24-64.txt': 8583})"
      ]
     },
     "execution_count": 40,
     "metadata": {},
     "output_type": "execute_result"
    }
   ],
   "source": [
    "#identify any outliers\n",
    "notes_summary.outlier_ident(note_lengths)"
   ]
  },
  {
   "cell_type": "code",
   "execution_count": null,
   "metadata": {
    "collapsed": true
   },
   "outputs": [],
   "source": []
  }
 ],
 "metadata": {
  "anaconda-cloud": {},
  "kernelspec": {
   "display_name": "Python [default]",
   "language": "python",
   "name": "python3"
  },
  "language_info": {
   "codemirror_mode": {
    "name": "ipython",
    "version": 3
   },
   "file_extension": ".py",
   "mimetype": "text/x-python",
   "name": "python",
   "nbconvert_exporter": "python",
   "pygments_lexer": "ipython3",
   "version": "3.5.2"
  }
 },
 "nbformat": 4,
 "nbformat_minor": 1
}
